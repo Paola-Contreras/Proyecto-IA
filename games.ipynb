{
 "cells": [
  {
   "attachments": {},
   "cell_type": "markdown",
   "metadata": {},
   "source": [
    "Laboratorio No.9 \n",
    "\n",
    "* Paola De León \n",
    "* Diego Córdova\n",
    "* Paola Contreras\n",
    "* Cristian Aguirre"
   ]
  },
  {
   "attachments": {},
   "cell_type": "markdown",
   "metadata": {},
   "source": [
    "Task 1 - Frozen Lake"
   ]
  },
  {
   "cell_type": "code",
   "execution_count": 1,
   "metadata": {},
   "outputs": [],
   "source": [
    "#Imports\n",
    "import time\n",
    "import gymnasium as gym \n",
    "from gymnasium.envs.toy_text.frozen_lake import generate_random_map"
   ]
  },
  {
   "cell_type": "code",
   "execution_count": 2,
   "metadata": {},
   "outputs": [
    {
     "name": "stdout",
     "output_type": "stream",
     "text": [
      "Iniciando entrenamiento del programa\n",
      "Iteracion: 1, movimiento 3 y meta 0.0\n",
      "Iteracion: 2, movimiento 1 y meta 0.0\n",
      "Iteracion: 3, movimiento 1 y meta 0.0\n",
      "Iteracion: 4, movimiento 1 y meta 0.0\n",
      "Iteracion: 5, movimiento 2 y meta 0.0\n",
      "Iteracion: 6, movimiento 1 y meta 0.0\n",
      "Iteracion: 7, movimiento 2 y meta 0.0\n",
      "Iteracion: 8, movimiento 1 y meta 0.0\n",
      "Iteracion: 9, movimiento 0 y meta 0.0\n",
      "Iteracion: 10, movimiento 2 y meta 0.0\n",
      "Iteracion: 11, movimiento 3 y meta 0.0\n",
      "Iteracion: 12, movimiento 2 y meta 0.0\n",
      "Iteracion: 13, movimiento 2 y meta 0.0\n",
      "Iteracion: 14, movimiento 2 y meta 0.0\n",
      "Iteracion: 15, movimiento 1 y meta 0.0\n",
      "Iteracion: 16, movimiento 3 y meta 0.0\n",
      "Iteracion: 17, movimiento 0 y meta 0.0\n",
      "Iteracion: 18, movimiento 1 y meta 0.0\n",
      "Iteracion: 19, movimiento 1 y meta 0.0\n",
      "Iteracion: 20, movimiento 3 y meta 0.0\n",
      "Iteracion: 21, movimiento 0 y meta 0.0\n",
      "Iteracion: 22, movimiento 0 y meta 0.0\n",
      "Iteracion: 23, movimiento 2 y meta 0.0\n",
      "Iteracion: 24, movimiento 2 y meta 0.0\n",
      "Iteracion: 25, movimiento 2 y meta 0.0\n",
      "Iteracion: 26, movimiento 1 y meta 0.0\n",
      "Iteracion: 27, movimiento 1 y meta 0.0\n",
      "Iteracion: 28, movimiento 0 y meta 0.0\n",
      "Iteracion: 29, movimiento 1 y meta 0.0\n",
      "Iteracion: 30, movimiento 3 y meta 0.0\n",
      "Iteracion: 31, movimiento 0 y meta 0.0\n",
      "Iteracion: 32, movimiento 2 y meta 0.0\n",
      "Iteracion: 33, movimiento 2 y meta 0.0\n",
      "Iteracion: 34, movimiento 2 y meta 0.0\n",
      "Iteracion: 35, movimiento 1 y meta 0.0\n",
      "Iteracion: 36, movimiento 2 y meta 0.0\n",
      "Iteracion: 37, movimiento 2 y meta 0.0\n",
      "Iteracion: 38, movimiento 1 y meta 0.0\n",
      "Iteracion: 39, movimiento 1 y meta 0.0\n",
      "Iteracion: 40, movimiento 2 y meta 0.0\n",
      "Iteracion: 41, movimiento 2 y meta 0.0\n",
      "Iteracion: 42, movimiento 0 y meta 0.0\n",
      "Iteracion: 43, movimiento 2 y meta 0.0\n",
      "Iteracion: 44, movimiento 0 y meta 0.0\n",
      "Iteracion: 45, movimiento 3 y meta 0.0\n",
      "Iteracion: 46, movimiento 1 y meta 0.0\n",
      "Iteracion: 47, movimiento 3 y meta 0.0\n",
      "Iteracion: 48, movimiento 3 y meta 0.0\n",
      "Iteracion: 49, movimiento 0 y meta 0.0\n",
      "Iteracion: 50, movimiento 0 y meta 0.0\n",
      "Iteracion: 51, movimiento 0 y meta 0.0\n",
      "Iteracion: 52, movimiento 3 y meta 0.0\n",
      "Iteracion: 53, movimiento 0 y meta 0.0\n",
      "Iteracion: 54, movimiento 3 y meta 0.0\n",
      "Iteracion: 55, movimiento 3 y meta 0.0\n",
      "Iteracion: 56, movimiento 2 y meta 0.0\n",
      "Iteracion: 57, movimiento 3 y meta 0.0\n",
      "Iteracion: 58, movimiento 3 y meta 0.0\n",
      "Iteracion: 59, movimiento 2 y meta 0.0\n",
      "Iteracion: 60, movimiento 1 y meta 0.0\n",
      "Iteracion: 61, movimiento 2 y meta 0.0\n",
      "Iteracion: 62, movimiento 2 y meta 0.0\n",
      "Iteracion: 63, movimiento 3 y meta 0.0\n",
      "Iteracion: 64, movimiento 3 y meta 0.0\n",
      "Iteracion: 65, movimiento 0 y meta 0.0\n",
      "Iteracion: 66, movimiento 2 y meta 0.0\n",
      "Iteracion: 67, movimiento 3 y meta 0.0\n",
      "Iteracion: 68, movimiento 2 y meta 0.0\n",
      "Iteracion: 69, movimiento 3 y meta 0.0\n",
      "Iteracion: 70, movimiento 1 y meta 0.0\n",
      "Iteracion: 71, movimiento 1 y meta 0.0\n",
      "Iteracion: 72, movimiento 1 y meta 0.0\n",
      "Iteracion: 73, movimiento 2 y meta 0.0\n",
      "Iteracion: 74, movimiento 0 y meta 0.0\n",
      "Iteracion: 75, movimiento 3 y meta 0.0\n",
      "Iteracion: 76, movimiento 0 y meta 0.0\n",
      "Iteracion: 77, movimiento 1 y meta 0.0\n",
      "Iteracion: 78, movimiento 3 y meta 0.0\n",
      "Iteracion: 79, movimiento 3 y meta 0.0\n",
      "Iteracion: 80, movimiento 3 y meta 0.0\n",
      "Iteracion: 81, movimiento 0 y meta 0.0\n",
      "Iteracion: 82, movimiento 1 y meta 0.0\n",
      "Iteracion: 83, movimiento 3 y meta 0.0\n",
      "Iteracion: 84, movimiento 0 y meta 0.0\n",
      "Iteracion: 85, movimiento 2 y meta 0.0\n",
      "Iteracion: 86, movimiento 2 y meta 0.0\n",
      "Iteracion: 87, movimiento 0 y meta 0.0\n",
      "Iteracion: 88, movimiento 1 y meta 0.0\n",
      "Iteracion: 89, movimiento 0 y meta 0.0\n",
      "Iteracion: 90, movimiento 2 y meta 0.0\n",
      "Iteracion: 91, movimiento 3 y meta 0.0\n",
      "Iteracion: 92, movimiento 1 y meta 0.0\n",
      "Iteracion: 93, movimiento 0 y meta 0.0\n",
      "Iteracion: 94, movimiento 3 y meta 0.0\n",
      "Iteracion: 95, movimiento 2 y meta 0.0\n",
      "Iteracion: 96, movimiento 2 y meta 0.0\n",
      "Iteracion: 97, movimiento 2 y meta 0.0\n",
      "Iteracion: 98, movimiento 1 y meta 0.0\n",
      "Iteracion: 99, movimiento 2 y meta 0.0\n",
      "Iteracion: 100, movimiento 1 y meta 0.0\n",
      "Iteracion: 101, movimiento 0 y meta 0.0\n",
      "Iteracion: 102, movimiento 2 y meta 1.0\n"
     ]
    },
    {
     "ename": "",
     "evalue": "",
     "output_type": "error",
     "traceback": [
      "\u001b[1;31mThe Kernel crashed while executing code in the the current cell or a previous cell. Please review the code in the cell(s) to identify a possible cause of the failure. Click <a href='https://aka.ms/vscodeJupyterKernelCrash'>here</a> for more info. View Jupyter <a href='command:jupyter.viewOutput'>log</a> for further details."
     ]
    }
   ],
   "source": [
    "# Video de apoyo https://www.youtube.com/watch?v=Vrro7W7iW2w\n",
    "#Enviroment\n",
    "environment=gym.make(\"FrozenLake-v1\",render_mode='human',is_slippery=True,desc=generate_random_map(size=4))\n",
    "environment.reset()\n",
    "environment.render()\n",
    "\n",
    "iteraciones = 1000\n",
    "print('Iniciando entrenamiento del programa')\n",
    "for i in range(iteraciones):\n",
    "    #0 - iaquierda, 1 - abajo, 2 - derecha, 3 - arriba\n",
    "    movimiento = environment.action_space.sample()\n",
    "    resultado = environment.step(movimiento)\n",
    "    \n",
    "    #Done simboliza otro elemento que no sea un hielo para caminar y reward determina si se llego a la meta o no \n",
    "    siguiente_estado, reward, done, info = resultado[:4] \n",
    "    environment.render()\n",
    "    print('Iteracion: {}, movimiento {}'.format(i+1, movimiento),'y meta',reward)\n",
    "    time.sleep(2)\n",
    "    \n",
    "    # Si el muñeco cae en un hielo lo reinicia y si el mismo llega a la meta termina con la ejecucion de este \n",
    "    if done is True and reward != 1:\n",
    "        environment.reset()\n",
    "        environment.render()\n",
    "    elif done is True and reward == 1:\n",
    "        break\n",
    "    "
   ]
  },
  {
   "attachments": {},
   "cell_type": "markdown",
   "metadata": {},
   "source": [
    "Task 2 - Juego de Boxeo"
   ]
  }
 ],
 "metadata": {
  "kernelspec": {
   "display_name": "Python 3",
   "language": "python",
   "name": "python3"
  },
  "language_info": {
   "codemirror_mode": {
    "name": "ipython",
    "version": 3
   },
   "file_extension": ".py",
   "mimetype": "text/x-python",
   "name": "python",
   "nbconvert_exporter": "python",
   "pygments_lexer": "ipython3",
   "version": "3.11.2"
  },
  "orig_nbformat": 4
 },
 "nbformat": 4,
 "nbformat_minor": 2
}

{
 "cells": [
  {
   "attachments": {},
   "cell_type": "markdown",
   "metadata": {},
   "source": [
    "Laboratorio No.9 \n",
    "\n",
    "* Paola De León \n",
    "* Diego Córdova\n",
    "* Paola Contreras\n",
    "* Cristian Aguirre"
   ]
  },
  {
   "attachments": {},
   "cell_type": "markdown",
   "metadata": {},
   "source": [
    "Task 1 - Frozen Lake"
   ]
  },
  {
   "cell_type": "code",
   "execution_count": 2,
   "metadata": {},
   "outputs": [
    {
     "name": "stdout",
     "output_type": "stream",
     "text": [
      "pygame 2.4.0 (SDL 2.26.4, Python 3.11.2)\n",
      "Hello from the pygame community. https://www.pygame.org/contribute.html\n"
     ]
    }
   ],
   "source": [
    "#Imports\n",
    "import time\n",
    "import gymnasium as gym \n",
    "from gymnasium.envs.toy_text.frozen_lake import generate_random_map"
   ]
  },
  {
   "cell_type": "code",
   "execution_count": 9,
   "metadata": {},
   "outputs": [
    {
     "name": "stdout",
     "output_type": "stream",
     "text": [
      "Iteracion: 1, accion 1 y meta 0.0\n",
      "Iteracion: 2, accion 0 y meta 0.0\n",
      "Iteracion: 3, accion 3 y meta 0.0\n",
      "Iteracion: 4, accion 3 y meta 0.0\n",
      "Iteracion: 5, accion 0 y meta 0.0\n",
      "Iteracion: 6, accion 3 y meta 0.0\n",
      "Iteracion: 7, accion 0 y meta 0.0\n",
      "Iteracion: 8, accion 1 y meta 0.0\n",
      "Iteracion: 9, accion 0 y meta 0.0\n",
      "Iteracion: 10, accion 0 y meta 0.0\n",
      "Iteracion: 11, accion 2 y meta 0.0\n",
      "Iteracion: 12, accion 2 y meta 0.0\n",
      "Iteracion: 13, accion 0 y meta 0.0\n",
      "Iteracion: 14, accion 3 y meta 0.0\n",
      "Iteracion: 15, accion 1 y meta 0.0\n",
      "Iteracion: 16, accion 2 y meta 0.0\n",
      "Iteracion: 17, accion 0 y meta 0.0\n",
      "Iteracion: 18, accion 0 y meta 0.0\n",
      "Iteracion: 19, accion 3 y meta 0.0\n",
      "Iteracion: 20, accion 3 y meta 0.0\n",
      "Iteracion: 21, accion 0 y meta 0.0\n",
      "Iteracion: 22, accion 1 y meta 0.0\n",
      "Iteracion: 23, accion 3 y meta 0.0\n",
      "Iteracion: 24, accion 1 y meta 0.0\n",
      "Iteracion: 25, accion 2 y meta 0.0\n",
      "Iteracion: 26, accion 3 y meta 0.0\n",
      "Iteracion: 27, accion 2 y meta 0.0\n",
      "Iteracion: 28, accion 0 y meta 0.0\n",
      "Iteracion: 29, accion 1 y meta 0.0\n",
      "Iteracion: 30, accion 2 y meta 0.0\n",
      "Iteracion: 31, accion 1 y meta 0.0\n",
      "Iteracion: 32, accion 3 y meta 0.0\n",
      "Iteracion: 33, accion 3 y meta 0.0\n",
      "Iteracion: 34, accion 0 y meta 0.0\n",
      "Iteracion: 35, accion 3 y meta 0.0\n",
      "Iteracion: 36, accion 0 y meta 0.0\n",
      "Iteracion: 37, accion 3 y meta 0.0\n",
      "Iteracion: 38, accion 3 y meta 0.0\n",
      "Iteracion: 39, accion 1 y meta 0.0\n",
      "Iteracion: 40, accion 3 y meta 0.0\n",
      "Iteracion: 41, accion 3 y meta 0.0\n",
      "Iteracion: 42, accion 2 y meta 0.0\n",
      "Iteracion: 43, accion 3 y meta 0.0\n",
      "Iteracion: 44, accion 0 y meta 0.0\n",
      "Iteracion: 45, accion 3 y meta 0.0\n",
      "Iteracion: 46, accion 0 y meta 0.0\n",
      "Iteracion: 47, accion 0 y meta 0.0\n",
      "Iteracion: 48, accion 0 y meta 0.0\n",
      "Iteracion: 49, accion 3 y meta 0.0\n",
      "Iteracion: 50, accion 3 y meta 0.0\n",
      "Iteracion: 51, accion 3 y meta 0.0\n",
      "Iteracion: 52, accion 1 y meta 0.0\n",
      "Iteracion: 53, accion 3 y meta 0.0\n",
      "Iteracion: 54, accion 0 y meta 0.0\n",
      "Iteracion: 55, accion 0 y meta 0.0\n",
      "Iteracion: 56, accion 2 y meta 0.0\n",
      "Iteracion: 57, accion 2 y meta 0.0\n",
      "Iteracion: 58, accion 0 y meta 0.0\n",
      "Iteracion: 59, accion 0 y meta 0.0\n",
      "Iteracion: 60, accion 3 y meta 0.0\n",
      "Iteracion: 61, accion 1 y meta 0.0\n",
      "Iteracion: 62, accion 3 y meta 0.0\n",
      "Iteracion: 63, accion 0 y meta 0.0\n",
      "Iteracion: 64, accion 3 y meta 0.0\n",
      "Iteracion: 65, accion 3 y meta 0.0\n",
      "Iteracion: 66, accion 2 y meta 0.0\n",
      "Iteracion: 67, accion 1 y meta 0.0\n",
      "Iteracion: 68, accion 2 y meta 0.0\n",
      "Iteracion: 69, accion 2 y meta 1.0\n"
     ]
    }
   ],
   "source": [
    "# Video de apoyo https://www.youtube.com/watch?v=Vrro7W7iW2w\n",
    "#Enviroment\n",
    "environment=gym.make(\"FrozenLake-v1\",render_mode='human',is_slippery=True,desc=generate_random_map(size=4))\n",
    "environment.reset()\n",
    "environment.render()\n",
    "\n",
    "iteraciones = 1000\n",
    "print('Iniciando entrenamiento del programa')\n",
    "for i in range(iteraciones):\n",
    "    #0 - iaquierda, 1 - abajo, 2 - derecha, 3 - arriba\n",
    "    movimiento = environment.action_space.sample()\n",
    "    resultado = environment.step(movimiento)\n",
    "    siguiente_estado, reward, done, info = resultado[:4] \n",
    "    environment.render()\n",
    "    print('Iteracion: {}, movimiento {}'.format(i+1, movimiento),'y meta',reward)\n",
    "    time.sleep(2)\n",
    "    \n",
    "    #Done simboliza otro elemento que no sea un hielo para caminar y reward determina si se llego a la meta o no \n",
    "    if done is True and reward != 1:\n",
    "        environment.reset()\n",
    "        environment.render()\n",
    "    elif done is True and reward == 1:\n",
    "        break\n",
    "    "
   ]
  },
  {
   "attachments": {},
   "cell_type": "markdown",
   "metadata": {},
   "source": [
    "Task 2 - Juego de Boxeo"
   ]
  }
 ],
 "metadata": {
  "kernelspec": {
   "display_name": "Python 3",
   "language": "python",
   "name": "python3"
  },
  "language_info": {
   "codemirror_mode": {
    "name": "ipython",
    "version": 3
   },
   "file_extension": ".py",
   "mimetype": "text/x-python",
   "name": "python",
   "nbconvert_exporter": "python",
   "pygments_lexer": "ipython3",
   "version": "3.11.2"
  },
  "orig_nbformat": 4
 },
 "nbformat": 4,
 "nbformat_minor": 2
}
